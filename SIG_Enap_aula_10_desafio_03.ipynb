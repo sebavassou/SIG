{
  "nbformat": 4,
  "nbformat_minor": 0,
  "metadata": {
    "colab": {
      "provenance": [],
      "collapsed_sections": [
        "p_WVukwXGXgS",
        "kLWoHX_m7pZi",
        "JpnnpAXaSj7q",
        "-QnSRPoYzxLc",
        "6HpTUeAFSHVj",
        "xioYj_huUJ2m"
      ],
      "include_colab_link": true
    },
    "kernelspec": {
      "name": "python3",
      "display_name": "Python 3"
    },
    "language_info": {
      "name": "python"
    }
  },
  "cells": [
    {
      "cell_type": "markdown",
      "metadata": {
        "id": "view-in-github",
        "colab_type": "text"
      },
      "source": [
        "<a href=\"https://colab.research.google.com/github/sebavassou/SIG/blob/main/SIG_Enap_aula_10_desafio_03.ipynb\" target=\"_parent\"><img src=\"https://colab.research.google.com/assets/colab-badge.svg\" alt=\"Open In Colab\"/></a>"
      ]
    },
    {
      "cell_type": "markdown",
      "source": [
        "### Instalar as bibliotecas de SIG\n",
        "*Ambiente Linux*\n",
        "1.   Atualiza o repositório local (sincroniza) e depois o sistema  - ***'apt'***\n",
        "2.   Instala as dependências para as bibliotecas Python - ***'apt'***\n",
        "3.   Atualiza o ***'pip'*** (instalado das bibliotecas python)\n",
        "4.   Instala as bibliotecas de Python para SIG\n",
        "\n",
        "Obs.:\n",
        "- O Google Colab já possui alguma das bibliotecas\n",
        "- Algumas bibliotecas depende de outras (instala automáticamente)"
      ],
      "metadata": {
        "id": "p_WVukwXGXgS"
      }
    },
    {
      "cell_type": "code",
      "execution_count": 1,
      "metadata": {
        "id": "rDPI2W-mBFhA",
        "outputId": "bb882934-c86b-43be-f697-9d6b551c5eac",
        "colab": {
          "base_uri": "https://localhost:8080/"
        }
      },
      "outputs": [
        {
          "output_type": "stream",
          "name": "stdout",
          "text": [
            "Process is interrupted.\n"
          ]
        }
      ],
      "source": [
        "%%bash\n",
        "# Instalar as bibliotecas\n",
        "apt update\n",
        "apt upgrade\n",
        "apt install libspatialindex-dev\n",
        "apt install libgdal-dev libgdal-pcraster-dev libgdal-perl\n",
        "apt install libsqlite3-mod-spatialite\n",
        "apt install gdal-bin\n",
        "pip -q install --upgrade pip\n",
        "pip -q install shapely --no-binary shapely\n",
        "pip -q install geopandas\n",
        "pip -q install pycrs\n",
        "# Utilitário para baixar arquivo do Google Drive (gdown [id do arquivo])\n",
        "pip -q install gdown"
      ]
    },
    {
      "cell_type": "markdown",
      "source": [
        "### Arquivos para Download\n",
        "*   Amostra do imageamento da Rapideye:  \n",
        "https://drive.google.com/file/d/1msmBcUfVxJKox_GiEA8Hi8AiykOP64F6\n",
        "*   Setor censitário (camada BR_setores_CD2022)  \n",
        "https://geoftp.ibge.gov.br/organizacao_do_territorio/malhas_territoriais/malhas_de_setores_censitarios__divisoes_intramunicipais/censo_2022/setores/gpkg/BR/BR_setores_CD2022.gpkg"
      ],
      "metadata": {
        "id": "kLWoHX_m7pZi"
      }
    },
    {
      "cell_type": "code",
      "source": [
        "%%bash\n",
        "\n",
        "# Amostra da Rapideye\n",
        "gdown -q 1msmBcUfVxJKox_GiEA8Hi8AiykOP64F6\n",
        "# Setor censitário\n",
        "wget -q https://geoftp.ibge.gov.br/organizacao_do_territorio/malhas_territoriais/malhas_de_setores_censitarios__divisoes_intramunicipais/censo_2022/setores/gpkg/BR/BR_setores_CD2022.gpkg\n"
      ],
      "metadata": {
        "id": "IuOZfCkJsDCV"
      },
      "execution_count": null,
      "outputs": []
    },
    {
      "cell_type": "markdown",
      "source": [
        "### Importar as bibliotecas"
      ],
      "metadata": {
        "id": "JpnnpAXaSj7q"
      }
    },
    {
      "cell_type": "code",
      "source": [
        "import shapely\n",
        "import geopandas as gpd\n",
        "import numpy as np"
      ],
      "metadata": {
        "id": "7d4HrMWOO7bW"
      },
      "execution_count": null,
      "outputs": []
    },
    {
      "cell_type": "markdown",
      "source": [
        "### GeoDataFrame do Setor censitário de Tocantins\n",
        "*   Arquivo do Gepackage: 'BR_setores_CD2022.gpkg'\n",
        "*   Camada/tabela: BR_setores_CD202  \n",
        "*   Filtrar pelo Estado do Pará (CD_UF = '15')"
      ],
      "metadata": {
        "id": "-QnSRPoYzxLc"
      }
    },
    {
      "cell_type": "code",
      "source": [
        "#"
      ],
      "metadata": {
        "id": "BRcYCM5VPtrv"
      },
      "execution_count": null,
      "outputs": []
    },
    {
      "cell_type": "markdown",
      "source": [
        "### GeoDataFrame da grade de imageamento do satélite Rapideye  \n",
        "*   Arquivo Geojon: 'rapideye_amostra.geojson'"
      ],
      "metadata": {
        "id": "6HpTUeAFSHVj"
      }
    },
    {
      "cell_type": "code",
      "source": [
        "#"
      ],
      "metadata": {
        "id": "Sk1yQFnFQQY-"
      },
      "execution_count": null,
      "outputs": []
    },
    {
      "cell_type": "markdown",
      "source": [
        "### Criar a tabela com: código do CST, área em ha do CST e a percentagem de área sem imageamento (decrescente)\n",
        "-    Verificar os SRC dos dataframes (se forem diferentes converta)\n",
        "-    Gere uma geometria com todas as grade de imageamento (união de todos as grades)\n",
        "-    Filtre os STCs que estão dentro da borda da área de imageamento (eliminar STC que fazem limite com a borda)\n",
        "-    Com os STCs filtrados, faça um novo filtro, com apenas os STCs que sobrepõe a geometria de imageamento e calcule a área que falta para serem totalmente imageados.\n",
        "-   Criar a tabela com os STC que não foi totalmente imageados, contendo: código do STC, área em ha do STC e a percentagem de área sem imageamento (decrescente)"
      ],
      "metadata": {
        "id": "xioYj_huUJ2m"
      }
    },
    {
      "cell_type": "code",
      "source": [
        "#"
      ],
      "metadata": {
        "id": "BeNoqv0gI-Tz"
      },
      "execution_count": null,
      "outputs": []
    }
  ]
}