{
  "nbformat": 4,
  "nbformat_minor": 0,
  "metadata": {
    "colab": {
      "provenance": [],
      "collapsed_sections": [
        "kLWoHX_m7pZi",
        "-QnSRPoYzxLc"
      ],
      "toc_visible": true,
      "include_colab_link": true
    },
    "kernelspec": {
      "name": "python3",
      "display_name": "Python 3"
    },
    "language_info": {
      "name": "python"
    }
  },
  "cells": [
    {
      "cell_type": "markdown",
      "metadata": {
        "id": "view-in-github",
        "colab_type": "text"
      },
      "source": [
        "<a href=\"https://colab.research.google.com/github/sebavassou/SIG/blob/main/SIG_Enap_aula_06_construindo_BD_SIG.ipynb\" target=\"_parent\"><img src=\"https://colab.research.google.com/assets/colab-badge.svg\" alt=\"Open In Colab\"/></a>"
      ]
    },
    {
      "cell_type": "markdown",
      "source": [
        "### Instalar as bibliotecas de SIG\n",
        "*Ambiente Linux*\n",
        "1.   Atualiza o repositório local (sincroniza) e depois o sistema  - ***'apt'***\n",
        "2.   Instala as dependências para as bibliotecas Python - ***'apt'***\n",
        "3.   Atualiza o ***'pip'*** (instalado das bibliotecas python)\n",
        "4.   Instala as bibliotecas de Python para SIG\n",
        "\n",
        "Obs.:\n",
        "- O Google Colab já possui alguma das bibliotecas\n",
        "- Algumas bibliotecas depende de outras (instala automáticamente)"
      ],
      "metadata": {
        "id": "p_WVukwXGXgS"
      }
    },
    {
      "cell_type": "code",
      "execution_count": null,
      "metadata": {
        "id": "rDPI2W-mBFhA"
      },
      "outputs": [],
      "source": [
        "!apt update\n",
        "!apt upgrade\n",
        "!apt install libspatialindex-dev\n",
        "!apt install libgdal-dev libgdal-pcraster-dev libgdal-perl\n",
        "!apt install libsqlite3-mod-spatialite\n",
        "!apt install gdal-bin"
      ]
    },
    {
      "cell_type": "markdown",
      "source": [
        "### Arquivos para Download\n",
        "*   Setores (Shapefile)  \n",
        "https://geoftp.ibge.gov.br/organizacao_do_territorio/malhas_territoriais/malhas_de_setores_censitarios__divisoes_intramunicipais/censo_2022/setores/shp/BR/BR_setores_CD2022.zip\n",
        "*    Agregados_por_setores_caracteristicas_domicilio1_BR  \n",
        "https://ftp.ibge.gov.br/Censos/Censo_Demografico_2022/Agregados_por_Setores_Censitarios/Agregados_por_Setor_csv/Agregados_por_setores_caracteristicas_domicilio1_BR.zip  \n",
        "*    Dicionário\n",
        "https://ftp.ibge.gov.br/Censos/Censo_Demografico_2022/Agregados_por_Setores_Censitarios/dicionario_de_dados_agregados_por_setores_censitarios_20250417.xlsx"
      ],
      "metadata": {
        "id": "kLWoHX_m7pZi"
      }
    },
    {
      "cell_type": "code",
      "source": [
        "!wget https://geoftp.ibge.gov.br/organizacao_do_territorio/malhas_territoriais/malhas_de_setores_censitarios__divisoes_intramunicipais/censo_2022/setores/shp/BR/BR_setores_CD2022.zip\n",
        "!wget https://ftp.ibge.gov.br/Censos/Censo_Demografico_2022/Agregados_por_Setores_Censitarios/Agregados_por_Setor_csv/Agregados_por_setores_caracteristicas_domicilio1_BR.zip\n",
        "!wget https://ftp.ibge.gov.br/Censos/Censo_Demografico_2022/Agregados_por_Setores_Censitarios/dicionario_de_dados_agregados_por_setores_censitarios_20250417.xlsx\n",
        "\n",
        "!unzip BR_setores_CD2022.zip\n",
        "!unzip Agregados_por_setores_caracteristicas_domicilio1_BR.zip"
      ],
      "metadata": {
        "id": "IuOZfCkJsDCV"
      },
      "execution_count": null,
      "outputs": []
    },
    {
      "cell_type": "code",
      "source": [
        "!ls -1"
      ],
      "metadata": {
        "id": "9nS-lVltX-J8"
      },
      "execution_count": null,
      "outputs": []
    },
    {
      "cell_type": "code",
      "source": [
        "!head Agregados_por_setores_caracteristicas_domicilio1_BR.csv"
      ],
      "metadata": {
        "id": "TlhfYmJjYCaZ"
      },
      "execution_count": null,
      "outputs": []
    },
    {
      "cell_type": "code",
      "source": [
        "# Como saber se o Shapefile possui Sistema de Referência de Coordenadas ?"
      ],
      "metadata": {
        "id": "KDCjXNB9YcQZ"
      },
      "execution_count": null,
      "outputs": []
    },
    {
      "cell_type": "markdown",
      "source": [
        "### Criar o Geopackage e inserir as informações\n",
        "*   BR_setores_CD2022 (Shapefile)  \n",
        "*   Agregados_por_setores_caracteristicas_domicilio1_BR (CSV)\n",
        "*   dicionario_de_dados_agregados_por_setores_censitarios_20250417 (Excel)\n"
      ],
      "metadata": {
        "id": "-QnSRPoYzxLc"
      }
    },
    {
      "cell_type": "markdown",
      "source": [
        "#### BR_setores_CD2022 (Shapefile)  - Cria um Geopackage"
      ],
      "metadata": {
        "id": "z94UnGqLeE5C"
      }
    },
    {
      "cell_type": "code",
      "source": [
        "!ogr2ogr -f \"GPKG\" enap_sig_2025_06_25.gpkg BR_setores_CD2022.shp -nln setores_cd2022"
      ],
      "metadata": {
        "id": "XFpy3gk4XMbr"
      },
      "execution_count": null,
      "outputs": []
    },
    {
      "cell_type": "markdown",
      "source": [
        "#### Agregados_por_setores_caracteristicas_domicilio1_BR (CSV) - **Adiciona**"
      ],
      "metadata": {
        "id": "KP4a9C7XeVI2"
      }
    },
    {
      "cell_type": "code",
      "source": [
        "!ogr2ogr -f \"GPKG\" -update enap_sig_2025_06_25.gpkg Agregados_por_setores_caracteristicas_domicilio1_BR.csv -nln agregados_por_setores -nlt NONE"
      ],
      "metadata": {
        "id": "bOKp8GHYeRTO"
      },
      "execution_count": null,
      "outputs": []
    },
    {
      "cell_type": "markdown",
      "source": [
        "#### dicionario_de_dados_agregados_por_setores_censitarios_20250417 (Excel)"
      ],
      "metadata": {
        "id": "_2fYiFM0eqy1"
      }
    },
    {
      "cell_type": "code",
      "source": [
        "import pandas as pd\n",
        "\n",
        "filepath = 'dicionario_de_dados_agregados_por_setores_censitarios_20250417.xlsx'\n",
        "\n",
        "with pd.ExcelFile( filepath ) as xls:\n",
        "    print('\\n'.join( xls.sheet_names ) )\n"
      ],
      "metadata": {
        "id": "AYyeDTo_ZHAK"
      },
      "execution_count": null,
      "outputs": []
    },
    {
      "cell_type": "code",
      "source": [
        "df = pd.read_excel( filepath, sheet_name=2)\n",
        "df.head()"
      ],
      "metadata": {
        "id": "rjspkM1dgUuJ"
      },
      "execution_count": null,
      "outputs": []
    },
    {
      "cell_type": "code",
      "source": [
        "import sqlite3\n",
        "from datetime import datetime\n",
        "\n",
        "filepath = 'enap_sig_2025_06_25.gpkg'\n",
        "table_name = 'dic_vars'\n",
        "\n",
        "with sqlite3.connect( filepath) as conn:\n",
        "    df.to_sql( table_name, conn, if_exists='replace', index=False )\n",
        "    # Insert table in gpkg_contents (Geopackage)\n",
        "    cursor = conn.cursor()\n",
        "    query = \"\"\"\n",
        "    INSERT INTO gpkg_contents (\n",
        "        table_name, data_type, identifier, description,\n",
        "        last_change, min_x, min_y, max_x, max_y, srs_id\n",
        "    ) VALUES (?, ?, ?, ?, ?, ?, ?, ?, ?, ?)\n",
        "    \"\"\"\n",
        "    cursor.execute(\n",
        "        query,\n",
        "        (\n",
        "            table_name, 'attributes', table_name, '',\n",
        "            datetime.utcnow().isoformat(), None, None, None, None, None\n",
        "        )\n",
        "    )\n"
      ],
      "metadata": {
        "id": "hd3IKGIdgNsH"
      },
      "execution_count": null,
      "outputs": []
    },
    {
      "cell_type": "markdown",
      "source": [
        "### Verificação das tabelas/camadas"
      ],
      "metadata": {
        "id": "L9G1X5zakTHH"
      }
    },
    {
      "cell_type": "code",
      "source": [
        "import pandas as pd\n",
        "import sqlite3\n",
        "\n",
        "filepath = 'enap_sig_2025_06_25.gpkg'\n",
        "query = \"SELECT table_name FROM gpkg_contents\"\n",
        "#query = \"SELECT name FROM sqlite_master WHERE type='table';\"\n",
        "\n",
        "with sqlite3.connect( filepath) as conn:\n",
        "    tables = pd.read_sql_query( query, conn )\n",
        "    print( tables )"
      ],
      "metadata": {
        "id": "Mdrydq_wkZ5n"
      },
      "execution_count": null,
      "outputs": []
    },
    {
      "cell_type": "code",
      "source": [
        "!ogrinfo -so -al enap_sig_2025_06_25.gpkg"
      ],
      "metadata": {
        "id": "i765544eneqv"
      },
      "execution_count": null,
      "outputs": []
    }
  ]
}