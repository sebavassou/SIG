{
  "nbformat": 4,
  "nbformat_minor": 0,
  "metadata": {
    "colab": {
      "provenance": [],
      "collapsed_sections": [
        "p_WVukwXGXgS",
        "WZ62oAUzJLpF",
        "w54r9UTI7reT",
        "HQ04eNJP_Shh",
        "S-E6z_3aGopW",
        "dgsf4VyTOgBc"
      ],
      "include_colab_link": true
    },
    "kernelspec": {
      "name": "python3",
      "display_name": "Python 3"
    },
    "language_info": {
      "name": "python"
    }
  },
  "cells": [
    {
      "cell_type": "markdown",
      "metadata": {
        "id": "view-in-github",
        "colab_type": "text"
      },
      "source": [
        "<a href=\"https://colab.research.google.com/github/sebavassou/SIG/blob/main/ambiente_sig_ciencia_dados.ipynb\" target=\"_parent\"><img src=\"https://colab.research.google.com/assets/colab-badge.svg\" alt=\"Open In Colab\"/></a>"
      ]
    },
    {
      "cell_type": "markdown",
      "source": [
        "### Instalar as bibliotecas de SIG\n",
        "*Ambiente Linux*\n",
        "1.   Atualiza o repositório local (sincroniza) e depois o sistema  - ***'apt'***\n",
        "2.   Instala as dependências para as bibliotecas Python - ***'apt'***\n",
        "3.   Atualiza o ***'pip'*** (instalado das bibliotecas python)\n",
        "4.   Instala as bibliotecas de Python para SIG\n",
        "\n",
        "Obs.:\n",
        "- O Google Colab já possui alguma das bibliotecas\n",
        "- Algumas bibliotecas depende de outras (instala automáticamente)"
      ],
      "metadata": {
        "id": "p_WVukwXGXgS"
      }
    },
    {
      "cell_type": "code",
      "execution_count": null,
      "metadata": {
        "id": "rDPI2W-mBFhA"
      },
      "outputs": [],
      "source": [
        "# prompt: instalar as bibliotecas: GeoPandas, GDAL, Shapely, RasterIO, Xarray e ipyleaflet\n",
        "\n",
        "!apt update\n",
        "!apt upgrade\n",
        "!apt install libspatialindex-dev\n",
        "!apt install libgdal-dev libgdal-pcraster-dev libgdal-perl\n",
        "!pip install --upgrade pip\n",
        "!pip install shapely --no-binary shapely\n",
        "!pip install geopandas\n",
        "!pip install pycrs\n",
        "!pip install rasterio\n",
        "!pip install xarray\n",
        "!pip install ipyleaflet"
      ]
    },
    {
      "cell_type": "markdown",
      "source": [
        "## Testar as bibliotecas"
      ],
      "metadata": {
        "id": "4T0fqZbTD0wP"
      }
    },
    {
      "cell_type": "code",
      "source": [
        "import geopandas as gpd\n",
        "from osgeo import ogr, gdal, osr\n",
        "\n",
        "from shapely.geometry import Point, LineString, Polygon\n",
        "import rasterio\n",
        "import xarray as xr\n",
        "from ipyleaflet import Map, Marker, GeoJSON"
      ],
      "metadata": {
        "id": "nCX0EJwADzTl"
      },
      "execution_count": null,
      "outputs": []
    },
    {
      "cell_type": "markdown",
      "source": [
        "## Testando ambiente do Colab"
      ],
      "metadata": {
        "id": "WZ62oAUzJLpF"
      }
    },
    {
      "cell_type": "code",
      "source": [
        "#!pwd\n",
        "#!ls\n",
        "#!cat /etc/os-release"
      ],
      "metadata": {
        "id": "EvtDvBYZVsu8"
      },
      "execution_count": null,
      "outputs": []
    },
    {
      "cell_type": "markdown",
      "source": [
        "## GDAL"
      ],
      "metadata": {
        "id": "-n2KBwoDab5s"
      }
    },
    {
      "cell_type": "markdown",
      "source": [
        "### Raster (imagens)"
      ],
      "metadata": {
        "id": "w54r9UTI7reT"
      }
    },
    {
      "cell_type": "code",
      "source": [
        "# Baixar imagem via wget\n",
        "!wget 'https://github.com/mommermi/geotiff_sample/raw/refs/heads/master/sample.tif'"
      ],
      "metadata": {
        "id": "4xgqKUMDbSOS"
      },
      "execution_count": null,
      "outputs": []
    },
    {
      "cell_type": "code",
      "source": [
        "gdal.DontUseExceptions()\n",
        "ds = gdal.Open('sample.tif')\n",
        "\n",
        "msg = f\"\"\"\n",
        "Total de bandas : {ds.RasterCount}\n",
        "Tamanho da imagem : {ds.RasterXSize} x {ds.RasterYSize}\n",
        "\"\"\"\n",
        "print( msg )\n",
        "\n",
        "# Dataset (GDAL) p/ Array Numpy\n",
        "array_ds = ds.ReadAsArray()\n",
        "msg = ''\n",
        "lin, col = 0, 1\n",
        "for band in range(len(array_ds)):\n",
        "    msg += f\"Banda: {band} - Linha {lin} - Coluna {col} = {array_ds[ band, lin, col]}\\n\"\n",
        "print( msg )\n",
        "\n",
        "ds = None"
      ],
      "metadata": {
        "id": "2Z6sOAp2g6E8"
      },
      "execution_count": null,
      "outputs": []
    },
    {
      "cell_type": "markdown",
      "source": [
        "### Vetor"
      ],
      "metadata": {
        "id": "HQ04eNJP_Shh"
      }
    },
    {
      "cell_type": "code",
      "source": [
        "url = 'WFS:https://panorama.sipam.gov.br/geoserver/publico/ows'\n",
        "ds = ogr.Open( url )\n",
        "\n",
        "for id in range( ds.GetLayerCount() ):\n",
        "    layer = ds.GetLayerByIndex( id )\n",
        "    msg = f\"{id}) Descrição: {layer.GetDescription()}\"\n",
        "    msg += f\"\\n- Total de feições: {layer.GetFeatureCount()}\"\n",
        "    msg += f\"\\n- Tipo de Geometria: {ogr.GeometryTypeToName( ( layer.GetGeomType() ) )}\"\n",
        "    print( msg )\n",
        "\n",
        "layer = ds.GetLayerByIndex( 8 ) # publico:ponte\n",
        "feature = layer.GetNextFeature()\n",
        "print( f\"\\n\\n{feature}\")\n",
        "ds = None"
      ],
      "metadata": {
        "id": "7N8dW44s_gTz"
      },
      "execution_count": null,
      "outputs": []
    },
    {
      "cell_type": "markdown",
      "source": [
        "## Shapely"
      ],
      "metadata": {
        "id": "S-E6z_3aGopW"
      }
    },
    {
      "cell_type": "code",
      "source": [
        "from shapely.geometry import Polygon\n",
        "\n",
        "poligono1 = Polygon([(0, 0), (2, 0), (2, 2), (0, 2)])\n",
        "poligono2 = Polygon([(1, 1), (3, 1), (3, 3), (1, 3)])"
      ],
      "metadata": {
        "id": "XK0Uwyd0HrwJ"
      },
      "execution_count": null,
      "outputs": []
    },
    {
      "cell_type": "code",
      "source": [
        "result = poligono1.intersection( poligono2 )\n",
        "print(result.wkt)\n",
        "result"
      ],
      "metadata": {
        "id": "4GOOU0HOI4Fe"
      },
      "execution_count": null,
      "outputs": []
    },
    {
      "cell_type": "code",
      "source": [
        "result = poligono1.difference(poligono2)\n",
        "print(result.wkt)\n",
        "result"
      ],
      "metadata": {
        "id": "T5EZjq29MU-c"
      },
      "execution_count": null,
      "outputs": []
    },
    {
      "cell_type": "markdown",
      "source": [
        "## RasterIO"
      ],
      "metadata": {
        "id": "dgsf4VyTOgBc"
      }
    },
    {
      "cell_type": "code",
      "source": [
        "import rasterio\n",
        "from rasterio.plot import show\n",
        "import matplotlib.pyplot as plt\n",
        "import numpy as np\n",
        "\n",
        "def stretch_contrast(band):\n",
        "    # Contraste Cumulativo (2-98%)\n",
        "    p2, p98 = np.percentile(band, (2, 98))\n",
        "    return np.clip((band - p2) / (p98 - p2), 0, 1)\n",
        "\n",
        "with rasterio.open('sample.tif') as src:\n",
        "    print(\"Dimensões:\", src.width, \"x\", src.height)\n",
        "    print(\"Número de bandas:\", src.count)\n",
        "\n",
        "    r, g, b = src.read(1), src.read(2), src.read(3)\n",
        "\n",
        "    rgb = np.dstack((r, g, b)).astype(np.float32)\n",
        "    rgb /= rgb.max()\n",
        "    #rgb_stretched = np.dstack([stretch_contrast(rgb[:, :, i]) for i in range(3)])\n",
        "\n",
        "    # Exibindo a banda\n",
        "    plt.figure(figsize=(10, 10))\n",
        "    plt.imshow(rgb)\n",
        "    #plt.imshow(rgb_stretched)\n",
        "    plt.title('Imagem de Satélite (RGB)')\n",
        "    plt.axis('off')\n",
        "    plt.show()"
      ],
      "metadata": {
        "id": "NXX_6KlqOkt6"
      },
      "execution_count": null,
      "outputs": []
    },
    {
      "cell_type": "code",
      "source": [
        "rgb = np.dstack((r, g, b))\n",
        "rgb[:,:,0] # Todas as Linhas, Todas Colunas, Celula (0/R, 1/G, 2/B)"
      ],
      "metadata": {
        "id": "z5Jq-PfZT61Z"
      },
      "execution_count": null,
      "outputs": []
    },
    {
      "cell_type": "code",
      "source": [
        "rgb[0, 1, :] # 1a Linha, 2a Coluna, Todas as células (RGB)"
      ],
      "metadata": {
        "id": "WBniVanCVbjA"
      },
      "execution_count": null,
      "outputs": []
    },
    {
      "cell_type": "markdown",
      "source": [
        "## Geopandas"
      ],
      "metadata": {
        "id": "IFjgs3NSWFpq"
      }
    },
    {
      "cell_type": "code",
      "source": [
        "# Baixar imagem via wget\n",
        "!wget https://dataserver-coids.inpe.br/queimadas/queimadas/focos/csv/diario/Brasil/focos_diario_br_20250618.csv"
      ],
      "metadata": {
        "id": "3A0aPWbPnd10"
      },
      "execution_count": null,
      "outputs": []
    },
    {
      "cell_type": "code",
      "source": [
        "!head focos_diario_br_20250618.csv"
      ],
      "metadata": {
        "id": "FIyMeWZtqAeb"
      },
      "execution_count": null,
      "outputs": []
    },
    {
      "cell_type": "code",
      "source": [
        "import pandas as pd\n",
        "import geopandas as gpd\n",
        "from shapely.geometry import Point\n",
        "\n",
        "filepath = 'focos_diario_br_20250618.csv'\n",
        "\n",
        "df = pd.read_csv( filepath )\n",
        "\n",
        "geometry = [ Point(xy) for xy in zip(df['lon'], df['lat']) ]\n",
        "df.drop(['lon', 'lat'], axis=1, inplace=True)\n",
        "\n",
        "# Convertendo para GeoDataFrame\n",
        "gdf_focos = gpd.GeoDataFrame(df, geometry=geometry)\n",
        "\n",
        "df = None\n",
        "\n",
        "# Definindo o sistema de referência (WGS84)\n",
        "gdf_focos.set_crs(epsg=4326, inplace=True)\n",
        "\n",
        "# Exibindo os primeiros registros\n",
        "gdf_focos.head()"
      ],
      "metadata": {
        "id": "fTPTX0PYnG6l"
      },
      "execution_count": null,
      "outputs": []
    },
    {
      "cell_type": "code",
      "source": [
        "geojson = \"\"\"\n",
        "{\n",
        "  \"type\": \"FeatureCollection\",\n",
        "  \"features\": [\n",
        "    {\n",
        "      \"type\": \"Feature\",\n",
        "      \"properties\": {},\n",
        "      \"geometry\": {\n",
        "        \"coordinates\": [\n",
        "          [\n",
        "            [\n",
        "              -56.58792582779658,\n",
        "              -9.542233284913337\n",
        "            ],\n",
        "            [\n",
        "              -56.58792582779658,\n",
        "              -11.23479269385929\n",
        "            ],\n",
        "            [\n",
        "              -54.836755873173786,\n",
        "              -11.23479269385929\n",
        "            ],\n",
        "            [\n",
        "              -54.836755873173786,\n",
        "              -9.542233284913337\n",
        "            ],\n",
        "            [\n",
        "              -56.58792582779658,\n",
        "              -9.542233284913337\n",
        "            ]\n",
        "          ]\n",
        "        ],\n",
        "        \"type\": \"Polygon\"\n",
        "      }\n",
        "    }\n",
        "  ]\n",
        "}\n",
        "\"\"\"\n"
      ],
      "metadata": {
        "id": "G3gratrXt2--"
      },
      "execution_count": null,
      "outputs": []
    },
    {
      "cell_type": "code",
      "source": [
        "import json\n",
        "\n",
        "# ROI\n",
        "json.loads(geojson)[\"features\"]\n",
        "gdf_roi = gpd.GeoDataFrame.from_features( json.loads(geojson)[\"features\"] )\n",
        "gdf_roi.set_crs(epsg=4326, inplace=True)\n",
        "\n",
        "# Filter\n",
        "gdf_filter = gdf_focos[ gdf_focos.geometry.within( gdf_roi.unary_union ) ]\n",
        "gdf_filter.head()"
      ],
      "metadata": {
        "id": "P9bjYfh5rTfg"
      },
      "execution_count": null,
      "outputs": []
    },
    {
      "cell_type": "markdown",
      "source": [],
      "metadata": {
        "id": "4YTaj8N2tHkl"
      }
    },
    {
      "cell_type": "markdown",
      "source": [
        "## Mapa"
      ],
      "metadata": {
        "id": "zSg-6CAIx9xY"
      }
    },
    {
      "cell_type": "code",
      "source": [
        "from ipyleaflet import Map, GeoData, Popup #,LayerControl\n",
        "from ipywidgets import HTML, Layout\n",
        "from shapely.geometry import shape\n",
        "\n",
        "def on_click(event, feature, **kwargs):\n",
        "    props = feature['properties']\n",
        "    geom = shape(feature['geometry'])\n",
        "    coords = [geom.y, geom.x]\n",
        "    #html_content = \"<b>Atributos:</b><br>\" + \"<br>\".join([f\"{k}: {v}\" for k, v in props.items()])\n",
        "    html_content = \"\"\"\n",
        "        <div style=\"font-family: Arial; font-size: 13px; color: #333;\">\n",
        "            <b style=\"font-size: 14px;\">Atributos:</b><br>\n",
        "            {}\n",
        "        </div>\n",
        "        \"\"\".format(\"<br>\".join([f\"<b>{k}</b>: {v}\" for k, v in props.items()]))\n",
        "\n",
        "    popup = Popup(\n",
        "        location=coords,\n",
        "        child=HTML(value=html_content),\n",
        "        close_button=True,\n",
        "        auto_close=False,\n",
        "        close_on_escape_key=False\n",
        "    )\n",
        "    m.popups = []  # Remove popups anteriores\n",
        "    m.add(popup)\n",
        "\n",
        "\n",
        "center = [-9.45, -56.58] # Lat, Long\n",
        "m = Map(center=center, zoom=6, layout=Layout(height=\"500px\"))\n",
        "\n",
        "layer = GeoData(\n",
        "    geo_dataframe=gdf_filter,\n",
        "    name = 'Focos',\n",
        "    name_property='id'\n",
        ")\n",
        "layer.on_click(on_click)\n",
        "\n",
        "m.add_layer(layer)\n",
        "#m.add_control(LayerControl())\n",
        "m"
      ],
      "metadata": {
        "id": "CfXSxzHvyB0B"
      },
      "execution_count": null,
      "outputs": []
    }
  ]
}